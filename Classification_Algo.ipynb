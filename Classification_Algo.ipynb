{
  "cells": [
    {
      "cell_type": "markdown",
      "id": "49c253e7",
      "metadata": {
        "id": "49c253e7"
      },
      "source": [
        "# dataloader "
      ]
    },
    {
      "cell_type": "code",
      "source": [
        "import matplotlib\n",
        "import numpy as np\n",
        "import pandas as pd\n",
        "import matplotlib.pyplot as plt\n",
        "import glob\n",
        "import os\n",
        "\n",
        "from IPython.display import clear_output\n",
        "from skimage.io import imread\n",
        "from skimage.transform import resize"
      ],
      "metadata": {
        "id": "BlQz25V_gMaf"
      },
      "id": "BlQz25V_gMaf",
      "execution_count": null,
      "outputs": []
    },
    {
      "cell_type": "code",
      "execution_count": null,
      "id": "5f59fb53",
      "metadata": {
        "id": "5f59fb53"
      },
      "outputs": [],
      "source": [
        "import os\n",
        "from os import listdir\n",
        "from os.path import isfile, join\n",
        "import pandas as pd\n",
        "import numpy as np\n",
        "import torch\n",
        "import numpy as np\n",
        "import matplotlib.pyplot as plt\n",
        "import seaborn as sns\n",
        "import torch\n",
        "from torch import nn\n",
        "import torch.nn.functional as F\n",
        "import torch.optim as optim\n",
        "from torch.utils.data import TensorDataset, DataLoader\n",
        "import torchvision\n",
        "import torchvision.transforms as transforms\n",
        "from torchvision.utils import make_grid\n",
        "from sklearn import metrics\n",
        "\n",
        "sns.set_style(\"whitegrid\")\n",
        "\n",
        "def accuracy(target, pred):\n",
        "    return metrics.accuracy_score(target.detach().cpu().numpy(), pred.detach().cpu().numpy())\n",
        "\n",
        "def compute_confusion_matrix(target, pred, normalize=None):\n",
        "    return metrics.confusion_matrix(\n",
        "        target.detach().cpu().numpy(), \n",
        "        pred.detach().cpu().numpy(),\n",
        "        normalize=normalize\n",
        "    )\n"
      ]
    },
    {
      "cell_type": "code",
      "source": [
        "from google.colab import drive\n",
        "drive.mount('/content/drive')"
      ],
      "metadata": {
        "colab": {
          "base_uri": "https://localhost:8080/"
        },
        "id": "PsieHF9wdEN8",
        "outputId": "a41a0dc7-979f-4eb5-ccf5-cebe441a7050"
      },
      "id": "PsieHF9wdEN8",
      "execution_count": null,
      "outputs": [
        {
          "output_type": "stream",
          "name": "stdout",
          "text": [
            "Mounted at /content/drive\n"
          ]
        }
      ]
    },
    {
      "cell_type": "code",
      "source": [
        "!ls drive/'My Drive'"
      ],
      "metadata": {
        "colab": {
          "base_uri": "https://localhost:8080/"
        },
        "id": "BwqCVO5XdIgk",
        "outputId": "38dda1d9-7250-44b6-c547-dfd82f6ee43d"
      },
      "id": "BwqCVO5XdIgk",
      "execution_count": null,
      "outputs": [
        {
          "output_type": "stream",
          "name": "stdout",
          "text": [
            " 0243374C-0F39-4AAE-9C93-3249C62A6ED3.jpeg\n",
            " 2019_data_analyst_jobs.gsheet\n",
            " 20200529093419733.pdf\n",
            "'Appunti di Giovanni - Fisica II'\n",
            "'Bakery Sales March 2020.gsheet'\n",
            " BeatriceCMarrano_CV.pdf\n",
            " Classroom\n",
            "'Colab Notebooks'\n",
            "'Copia di Cosmetics Inc. (1).gsheet'\n",
            "'Copia di Cosmetics Inc..gsheet'\n",
            "'Course 4 Week 2 Glossary | DA terms and definitions.gdoc'\n",
            "'Data Spreadsheet for \"Cleaning with Spreadsheets\" .gsheet'\n",
            "'Dynamic Dataset.gsheet'\n",
            " E5F47663-C5A7-40C4-8536-9F93CAC746AB.jpeg\n",
            "'Example Spreadsheet - Entertainment Expenses .gsheet'\n",
            "'Global Logistics Association - Data to Merge.gsheet'\n",
            " images\n",
            "'June 2014 Invoices.gsheet'\n",
            "'Movie Data Starter Project.gsheet'\n",
            " Outlook\n",
            " p\n",
            "'Room 2F.1.12 - Beatrice Marrano - Studio L - signed(1) (1).gdoc'\n",
            "'Room 2F.1.12 - Beatrice Marrano - Studio L - signed(1) (2).gdoc'\n",
            "'Room 2F.1.12 - Beatrice Marrano - Studio L - signed(1).gdoc'\n",
            "'Room 2F.1.12 - Beatrice Marrano - Studio L - signed(1).pdf'\n",
            "'Sample Size Calculator.gsheet'\n",
            " sample_submission.csv\n",
            "'Sample Transaction Table.gsheet'\n",
            " student_performance_data.gsheet\n",
            " submission.csv\n",
            " test.csv\n",
            " train.csv\n"
          ]
        }
      ]
    },
    {
      "cell_type": "code",
      "source": [
        "drive_path = 'drive/My Drive/'"
      ],
      "metadata": {
        "id": "Jm7k9XnldIkK"
      },
      "id": "Jm7k9XnldIkK",
      "execution_count": null,
      "outputs": []
    },
    {
      "cell_type": "code",
      "source": [
        "count_images = len(glob.glob(\"drive/My Drive/p/*/*.npy\"))\n",
        "print(\"Total Observations:\\t\", count_images)"
      ],
      "metadata": {
        "colab": {
          "base_uri": "https://localhost:8080/"
        },
        "id": "nuYiKKcKdInV",
        "outputId": "2d8e36c7-1109-4c0f-c763-967bb3e5969c"
      },
      "id": "nuYiKKcKdInV",
      "execution_count": null,
      "outputs": [
        {
          "output_type": "stream",
          "name": "stdout",
          "text": [
            "Total Observations:\t 11464\n"
          ]
        }
      ]
    },
    {
      "cell_type": "markdown",
      "source": [
        "---"
      ],
      "metadata": {
        "id": "j99kieLXdSsy"
      },
      "id": "j99kieLXdSsy"
    },
    {
      "cell_type": "code",
      "execution_count": null,
      "id": "dffcb114",
      "metadata": {
        "id": "dffcb114"
      },
      "outputs": [],
      "source": [
        "folders= [name for name in os.listdir(\"drive/My Drive/p/\") if os.path.isdir('drive/My Drive/p/'+name)][1:]"
      ]
    },
    {
      "cell_type": "code",
      "source": [
        "folders"
      ],
      "metadata": {
        "colab": {
          "base_uri": "https://localhost:8080/"
        },
        "id": "27r9iaKBRJCO",
        "outputId": "b12a2d24-c0c3-4dc2-d0e8-d120136ec152"
      },
      "id": "27r9iaKBRJCO",
      "execution_count": null,
      "outputs": [
        {
          "output_type": "execute_result",
          "data": {
            "text/plain": [
              "['Week8_4sites_G02_s4_w15F47AE57-AC34-49C6-97E7-8CEA26BE83E0',\n",
              " 'Week8_4sites_G02_s4_w1CED69CBA-FCC9-4E50-B9DF-890C22C4F4F1',\n",
              " 'Week8_4sites_G02_s4_w1DCA9961B-DBD3-429C-97D2-340F8393075F',\n",
              " 'Week8_4sites_G02_s4_w15009F180-5183-4903-A7D8-7938589AD6CE',\n",
              " 'Week8_4sites_G02_s4_w177DDFAB4-060A-43E8-B518-B71A77368080',\n",
              " 'Week8_4sites_G11_s1_w1F302A162-2266-4CD2-8052-63235C48D104',\n",
              " 'Week8_4sites_G11_s1_w1D9DA2986-8D29-41C9-A3B4-E7910167C5C6',\n",
              " 'Week8_4sites_G11_s1_w1B546843F-3450-4968-83C4-9F952462852A',\n",
              " 'Week9_090907_B11_s1_w1D93D91E4-BDFC-469B-9A49-F33D7864D113',\n",
              " 'Week9_090907_B05_s4_w107B51C3B-D57D-41BA-B38F-6737973E906C',\n",
              " 'Week9_090907_B11_s1_w19C5ECE73-EE7D-46DA-889B-D6AEDDC9C2F4',\n",
              " 'Week9_090907_B05_s4_w1888F5C9E-84CB-41CC-B5D2-E6721341681F',\n",
              " 'Week9_090907_B05_s4_w1DF204CCF-D198-4D18-BB6A-154F7FFBAC37',\n",
              " 'Week9_090907_B05_s3_w17B45A6B7-91CA-4DD1-8D17-86A2D6A72F9E',\n",
              " 'Week9_090907_B05_s3_w1EE23ABFE-A7D8-4360-AA72-A49701D86FA0',\n",
              " 'Week9_090907_B11_s1_w1AEE0ACA4-6408-4E7A-AA82-980167400F58',\n",
              " 'Week9_090907_B11_s1_w1B1E07C84-C3B6-4A85-98E2-717B3F6894DF',\n",
              " 'Week9_090907_B11_s1_w1EE58D276-7C62-4E5F-A32F-32B2080FDE71',\n",
              " 'Week9_090907_B11_s1_w18563D9A8-7B0C-4AA4-A75D-C7F8E149B985',\n",
              " 'Week9_090907_B11_s2_w1DAD225B4-056C-408A-A24C-A6AFFF95FC16',\n",
              " 'Week9_090907_B11_s2_w1A12A5C2C-50E1-4409-8D44-5D4CC2E526C4',\n",
              " 'Week9_090907_B11_s2_w1162D5BDB-D611-4FEE-AF31-96EF29CE2657',\n",
              " 'Week9_090907_B11_s3_w11D6F5149-A9EF-4949-B1C1-B3F850F0E98C',\n",
              " 'Week9_090907_B11_s3_w1D0A9A621-983F-48FE-AB91-DDBCA14C98A6',\n",
              " 'Week9_090907_B11_s2_w18FE4A36B-D774-4E9F-A86C-6A25D5FDE66D',\n",
              " 'Week9_090907_B11_s2_w1C3B2BD04-21FD-4789-9D18-F5E589DA542D',\n",
              " 'Week9_090907_B11_s3_w11F423B47-8F50-413F-82B3-A10881CFC564',\n",
              " 'Week9_090907_B11_s2_w13175AB5A-368C-42D0-B369-FE5287CC9569',\n",
              " 'Week9_090907_B11_s3_w15AF8CE46-8E38-4321-B077-217A6F97DEDB',\n",
              " 'Week10_200907_G11_s4_w1728B8C23-4D4D-42FA-903F-768774133F9F',\n",
              " 'Week10_200907_G11_s4_w1EC917FA2-711E-4AD9-B9CA-714FDC7CCFAF',\n",
              " 'Week10_200907_G11_s4_w1C97E64C3-00B1-4693-AE49-A8708F25B55F',\n",
              " 'Week10_200907_G11_s3_w148ED2F5E-E2E6-4665-B40D-60852C198D06',\n",
              " 'Week10_200907_G11_s3_w11944302C-E266-46A0-90EC-03544126B25B',\n",
              " 'Week10_200907_G11_s2_w17FAC809C-8D8F-4BA1-87EA-CD0D1BEC407B',\n",
              " 'Week10_200907_G11_s2_w17AB8A29D-6346-44D4-AD0F-9AB4C25D6B56',\n",
              " 'Week10_200907_G11_s3_w18C5B3CAC-4C9A-4C19-AF45-49E49937B3D3',\n",
              " 'Week10_200907_E02_s3_w160A3ADD2-2FA5-4AE6-9E0A-9F15D093E663',\n",
              " 'Week1_150607_G04_s1_w1CCA21FF8-2480-4C43-AB01-9F4667091015',\n",
              " 'Week1_150607_E02_s1_w1FB506A66-59E1-415E-9CFF-3B091BF7B992',\n",
              " 'Week2_180607_D03_s2_w16BE80493-A2EA-4A04-9B5E-E7E95914FD31',\n",
              " 'Week3_290607_B04_s1_w1621DC06A-FC20-4F79-8BBF-A93F4932D472',\n",
              " 'Week3_290607_D03_s4_w1B2AA4CBA-8EE8-43F7-8C59-A2459784F66A',\n",
              " 'Week3_290607_F06_s3_w1277B6353-B522-4F13-A5C3-0211D8675E08',\n",
              " 'Week3_290607_C06_s1_w16863C3CE-84DD-41E7-9F58-3B315E1F8F87',\n",
              " 'Week5_130707_B05_s2_w1E221492D-820B-446D-8BF9-46CA492E36D9',\n",
              " 'Week6_200607_B03_s4_w1BB8EDD56-741E-4131-A18F-1DBD2CDDD558',\n",
              " 'Week7_7__G05_s1_w17373E8F3-01DC-4C01-972B-A8E9A9A874A1',\n",
              " 'Week8_4sites_C08_s4_w140C77328-2FA8-40C1-9A4A-A33DE01035FD',\n",
              " 'Week9_090907_E05_s4_w11EB890E7-C387-42DD-8514-5239D4AC6568',\n",
              " 'Week9_090907_D05_s4_w1D2C37914-2F48-4164-A724-180A239DD7AF',\n",
              " 'Week1_150607_B03_s1_w114129FBE-AB04-4F79-B8AF-CFA7D5524D53',\n",
              " 'Week1_150607_B03_s2_w1B41C8265-7501-433B-B901-C57F0A1A39B7',\n",
              " 'Week1_150607_B03_s3_w1FD5D2AA2-BCCE-4C01-B0DE-58F6202CF6C8',\n",
              " 'Week1_150607_B03_s4_w155514C59-0387-48AC-B2C1-0FCDC248B021',\n",
              " 'Week1_150607_G03_s1_w1236CFFD0-928F-496F-B95E-E31FD9B5974A',\n",
              " 'Week1_150607_G03_s2_w192D6EFF8-D8F6-4AF0-AF33-A23B9F2E6F26',\n",
              " 'Week1_150607_G03_s3_w119D1F772-BE77-4D1A-BE5B-A0811DC03A9E',\n",
              " 'Week1_150607_G03_s4_w177D023B1-527C-46C9-961F-48F39BD63D08',\n",
              " 'Week9_090907_E04_s1_w1C3DBCD7A-FCBD-41EE-A38E-7023858861F9',\n",
              " 'Week9_090907_E04_s2_w17622BEC6-74DC-4904-B9EB-AD7C978565A1',\n",
              " 'Week9_090907_E04_s3_w1BBCB777B-38E0-4915-8A05-BDCA9A154318',\n",
              " 'Week9_090907_E05_s1_w163C4CC50-9666-4A88-BE51-C9E6A2C904EC',\n",
              " 'Week3_290607_F04_s1_w19989BEA1-94E8-4350-B73C-31624F43D607',\n",
              " 'Week3_290607_F04_s2_w167C3BFF9-3FEB-4BAE-92A0-AA022479A6FD',\n",
              " 'Week3_290607_F04_s3_w1A69575ED-DE84-4804-861F-7D2CC8A38183',\n",
              " 'Week3_290607_F04_s4_w183F7CB58-EE5B-4220-A422-2544F317E30E',\n",
              " 'Week3_290607_F05_s1_w1735369B9-37C8-4966-926E-38BAF042545E',\n",
              " 'Week2_180607_G03_s1_w10C53D440-B704-41BB-9A5C-AB74D403E9FE',\n",
              " 'Week2_180607_G03_s2_w11014D06F-3A39-4B8F-AB98-2A90B4E87993',\n",
              " 'Week2_180607_G03_s3_w1D0D8513D-4AA3-451D-A9AC-DE948CFB3355',\n",
              " 'Week2_180607_G03_s4_w176B8FDE2-C853-473C-B927-1B82F40B1796',\n",
              " 'Week10_200907_C05_s1_w1CCD0C22C-717E-4F62-8FF2-321361577967',\n",
              " 'Week10_200907_C05_s2_w122FA5312-4E09-4618-911D-C42B8AC57D05',\n",
              " 'Week10_200907_C05_s3_w1EA6C962E-4699-427E-BA53-7D0583AE681B',\n",
              " 'Week10_200907_C05_s4_w1C38ADAB5-51D7-44EC-8253-839F64EE2B26',\n",
              " 'Week10_200907_D04_s1_w18E3890A7-9F82-4414-970E-872A0A4C1729',\n",
              " 'Week10_200907_D04_s2_w131BD63B7-B77C-44B5-9D0C-9256C4B5F54F',\n",
              " 'Week10_200907_D04_s3_w1E0CDAB78-68F2-48B6-84AF-ED7BCCFF316C',\n",
              " 'Week10_200907_D04_s4_w1D3BF005B-1B96-4871-924F-41B16833D83A',\n",
              " 'Week7_7__E06_s1_w1CE821470-883E-4776-8374-0A973581E58B',\n",
              " 'Week7_7__E06_s2_w150BE9FCB-0C3D-4118-BB96-B9539C7D8E73',\n",
              " 'Week7_7__E06_s3_w111FB4FAB-4179-4784-998F-78599BD780B1',\n",
              " 'Week7_7__E06_s4_w15AB348F7-1687-43D5-ADA8-9203B994BF52',\n",
              " 'Week1_150607_E03_s1_w1CC9CF6DE-5D49-485C-B53A-C5F23960F132',\n",
              " 'Week1_150607_E03_s2_w1560CB402-89C2-4AB7-A046-52D5F6518BBD',\n",
              " 'Week1_150607_E03_s3_w1008753AF-2622-49CF-A2B4-D733A4C98BCE',\n",
              " 'Week1_150607_E03_s4_w1283F68AE-A41B-448C-BC6B-264BA45F9E1A',\n",
              " 'Week10_200907_B11_s1_w1306379D8-96D3-47EC-9BAD-3A5A17BA0136',\n",
              " 'Week10_200907_B11_s2_w146CDCDB7-B7E6-40E1-AAB7-7EEA555E7C48',\n",
              " 'Week10_200907_B11_s3_w148C5BB53-E3DF-4788-8670-CD459F352E84',\n",
              " 'Week10_200907_B11_s4_w19244677D-9297-489C-AC9B-729970E9F086',\n",
              " 'Week2_180607_D06_s1_w1462FED99-AACD-4BCA-864B-FBB95EEB960C',\n",
              " 'Week2_180607_D06_s2_w19167AEA1-6B3B-4E1D-9B49-185868678910',\n",
              " 'Week2_180607_D06_s3_w146C32A66-CB47-46C8-BD4E-943908C62668',\n",
              " 'Week2_180607_D06_s4_w19B6EE5DF-0555-458C-B768-0852DB9F5E3E',\n",
              " 'Week3_290607_C06_s2_w1B848CA5F-1280-4B57-9749-B4B6F2906DC1',\n",
              " 'Week3_290607_C06_s3_w13124889A-6E0B-4D86-A108-AC1FBA325C81',\n",
              " 'Week3_290607_C06_s4_w136147656-B3EC-4C56-A2BF-7E20CDC19850']"
            ]
          },
          "metadata": {},
          "execution_count": 9
        }
      ]
    },
    {
      "cell_type": "code",
      "execution_count": null,
      "id": "2e5cfc1c",
      "metadata": {
        "id": "2e5cfc1c"
      },
      "outputs": [],
      "source": [
        "metadata = pd.read_csv('drive/My Drive/p/metadata.csv')"
      ]
    },
    {
      "cell_type": "code",
      "execution_count": null,
      "id": "dc8b81aa",
      "metadata": {
        "id": "dc8b81aa"
      },
      "outputs": [],
      "source": [
        "u = metadata.moa.unique()"
      ]
    },
    {
      "cell_type": "code",
      "execution_count": null,
      "id": "a86f9829",
      "metadata": {
        "id": "a86f9829"
      },
      "outputs": [],
      "source": [
        "moa_id = {}\n",
        "for i in range(len(u)):\n",
        "    moa_id[u[i]] = i"
      ]
    },
    {
      "cell_type": "code",
      "execution_count": null,
      "id": "39e4a6eb",
      "metadata": {
        "colab": {
          "base_uri": "https://localhost:8080/"
        },
        "id": "39e4a6eb",
        "outputId": "d82ae2c1-5193-4558-a308-98d3c64778da"
      },
      "outputs": [
        {
          "output_type": "execute_result",
          "data": {
            "text/plain": [
              "{'DMSO': 0,\n",
              " 'Microtubule stabilizers': 1,\n",
              " 'Eg5 inhibitors': 2,\n",
              " 'Epithelial': 3,\n",
              " 'Actin disruptors': 4,\n",
              " 'Microtubule destabilizers': 5,\n",
              " 'Aurora kinase inhibitors': 6,\n",
              " 'Protein degradation': 7,\n",
              " 'DNA replication': 8,\n",
              " 'DNA damage': 9,\n",
              " 'Protein synthesis': 10,\n",
              " 'Kinase inhibitors': 11,\n",
              " 'Cholesterol-lowering': 12}"
            ]
          },
          "metadata": {},
          "execution_count": 13
        }
      ],
      "source": [
        "moa_id"
      ]
    },
    {
      "cell_type": "code",
      "execution_count": null,
      "id": "05e8f21e",
      "metadata": {
        "id": "05e8f21e"
      },
      "outputs": [],
      "source": [
        "metadata_usable = metadata.loc[:,(metadata.columns == \"Single_Cell_Image_Name\") | (metadata.columns == 'moa')]"
      ]
    },
    {
      "cell_type": "code",
      "execution_count": null,
      "id": "d9f68315",
      "metadata": {
        "id": "d9f68315"
      },
      "outputs": [],
      "source": [
        "prop_dmso = np.floor((metadata_usable.moa.value_counts().median()/metadata_usable.moa.value_counts().sum())*count_images)"
      ]
    },
    {
      "cell_type": "code",
      "execution_count": null,
      "id": "f389e33c",
      "metadata": {
        "colab": {
          "base_uri": "https://localhost:8080/"
        },
        "id": "f389e33c",
        "outputId": "050a17e6-5244-48c8-ddf8-48a2e5a41e8f"
      },
      "outputs": [
        {
          "output_type": "execute_result",
          "data": {
            "text/plain": [
              "DMSO                         276360\n",
              "Microtubule stabilizers       89157\n",
              "Aurora kinase inhibitors      16810\n",
              "DNA damage                    16582\n",
              "Microtubule destabilizers     15178\n",
              "Epithelial                    14955\n",
              "Eg5 inhibitors                12525\n",
              "Kinase inhibitors             11622\n",
              "Protein synthesis              9715\n",
              "Actin disruptors               7491\n",
              "Protein degradation            6589\n",
              "DNA replication                5976\n",
              "Cholesterol-lowering           5436\n",
              "Name: moa, dtype: int64"
            ]
          },
          "metadata": {},
          "execution_count": 16
        }
      ],
      "source": [
        "metadata_usable.moa.value_counts()"
      ]
    },
    {
      "cell_type": "code",
      "execution_count": null,
      "id": "ba014364",
      "metadata": {
        "id": "ba014364"
      },
      "outputs": [],
      "source": [
        "dataset_train = []\n",
        "dataset_test = []\n",
        "count_dmso = 0\n",
        "count_test = 0\n",
        "\n",
        "\n",
        "for folder in folders:\n",
        "    images = listdir('drive/My Drive/p/'+folder)\n",
        "    \n",
        "    for image in images:\n",
        "        \n",
        "        single_cell_image = np.load('drive/My Drive/p/'+folder+'/'+image)\n",
        "        single_cell_image = torch.tensor(single_cell_image.astype(np.float32))\n",
        "        idx = metadata_usable.Single_Cell_Image_Name.values == image\n",
        "        classif = moa_id[metadata_usable.loc[idx,[False,True]].moa.values[0]]\n",
        "        \n",
        "        \n",
        "        if(classif==0):\n",
        "            if(count_dmso>prop_dmso):\n",
        "                continue\n",
        "            count_dmso+=1\n",
        "        if(count_test==3):\n",
        "            dataset_test.append((single_cell_image,classif))\n",
        "            count_test = 0\n",
        "        else:\n",
        "            dataset_train.append((single_cell_image,classif))\n",
        "            count_test += 1"
      ]
    },
    {
      "cell_type": "code",
      "execution_count": null,
      "id": "e262706f",
      "metadata": {
        "id": "e262706f"
      },
      "outputs": [],
      "source": [
        "train_loader = torch.utils.data.DataLoader(dataset_train, batch_size=4,\n",
        "                                          shuffle=True, num_workers=0)"
      ]
    },
    {
      "cell_type": "code",
      "execution_count": null,
      "id": "9fae59fc",
      "metadata": {
        "id": "9fae59fc"
      },
      "outputs": [],
      "source": [
        "test_loader = torch.utils.data.DataLoader(dataset_test, batch_size=4,\n",
        "                                          shuffle=True, num_workers=0)"
      ]
    },
    {
      "cell_type": "code",
      "execution_count": null,
      "id": "190dd09b",
      "metadata": {
        "id": "190dd09b"
      },
      "outputs": [],
      "source": [
        "x,y=next(iter(train_loader))"
      ]
    },
    {
      "cell_type": "code",
      "execution_count": null,
      "id": "e7f22a30",
      "metadata": {
        "colab": {
          "base_uri": "https://localhost:8080/"
        },
        "id": "e7f22a30",
        "outputId": "a1c60250-1d3a-4baf-e50b-fe93a12760b6"
      },
      "outputs": [
        {
          "output_type": "execute_result",
          "data": {
            "text/plain": [
              "torch.Size([4, 68, 68, 3])"
            ]
          },
          "metadata": {},
          "execution_count": 24
        }
      ],
      "source": [
        "x.reshape([3, 68,68,4])\n",
        "x.shape"
      ]
    },
    {
      "cell_type": "code",
      "execution_count": null,
      "id": "5473a7ae",
      "metadata": {
        "colab": {
          "base_uri": "https://localhost:8080/"
        },
        "id": "5473a7ae",
        "outputId": "1c44be9e-9bac-4ea3-8725-bc36a0e8ddc6"
      },
      "outputs": [
        {
          "output_type": "stream",
          "name": "stdout",
          "text": [
            "Model(\n",
            "  (net): Sequential(\n",
            "    (0): Conv2d(3, 32, kernel_size=(3, 3), stride=(2, 2), padding=(1, 1))\n",
            "    (1): PrintSize()\n",
            "    (2): ReLU()\n",
            "    (3): BatchNorm2d(32, eps=1e-05, momentum=0.1, affine=True, track_running_stats=True)\n",
            "    (4): Conv2d(32, 64, kernel_size=(3, 3), stride=(2, 2), padding=(1, 1))\n",
            "    (5): PrintSize()\n",
            "    (6): ReLU()\n",
            "    (7): BatchNorm2d(64, eps=1e-05, momentum=0.1, affine=True, track_running_stats=True)\n",
            "    (8): Conv2d(64, 128, kernel_size=(3, 3), stride=(1, 1), padding=(1, 1))\n",
            "    (9): PrintSize()\n",
            "    (10): ReLU()\n",
            "    (11): BatchNorm2d(128, eps=1e-05, momentum=0.1, affine=True, track_running_stats=True)\n",
            "    (12): Conv2d(128, 128, kernel_size=(3, 3), stride=(2, 2), padding=(1, 1))\n",
            "    (13): PrintSize()\n",
            "    (14): ReLU()\n",
            "    (15): BatchNorm2d(128, eps=1e-05, momentum=0.1, affine=True, track_running_stats=True)\n",
            "    (16): Conv2d(128, 256, kernel_size=(3, 3), stride=(1, 1), padding=(1, 1))\n",
            "    (17): PrintSize()\n",
            "    (18): ReLU()\n",
            "    (19): BatchNorm2d(256, eps=1e-05, momentum=0.1, affine=True, track_running_stats=True)\n",
            "    (20): Conv2d(256, 512, kernel_size=(3, 3), stride=(1, 1), padding=(1, 1))\n",
            "    (21): PrintSize()\n",
            "    (22): ReLU()\n",
            "    (23): BatchNorm2d(512, eps=1e-05, momentum=0.1, affine=True, track_running_stats=True)\n",
            "    (24): Flatten(start_dim=1, end_dim=-1)\n",
            "    (25): Linear(in_features=41472, out_features=512, bias=True)\n",
            "    (26): ReLU()\n",
            "    (27): Dropout(p=0.1, inplace=False)\n",
            "    (28): Linear(in_features=512, out_features=256, bias=True)\n",
            "    (29): ReLU()\n",
            "    (30): Dropout(p=0.1, inplace=False)\n",
            "    (31): Linear(in_features=256, out_features=13, bias=True)\n",
            "  )\n",
            ")\n"
          ]
        }
      ],
      "source": [
        "n_classes = 13\n",
        "batches, width, height, channels = x.shape\n",
        "\n",
        "class PrintSize(nn.Module):\n",
        "    \"\"\"Utility module to print current shape of a Tensor in Sequential, only at the first pass.\"\"\"\n",
        "    \n",
        "    first = True\n",
        "    \n",
        "    def forward(self, x):\n",
        "        if self.first:\n",
        "            print(f\"Size: {x.size()}\")\n",
        "            self.first = False\n",
        "        return x\n",
        "\n",
        "class Model(nn.Module):\n",
        "\n",
        "    def __init__(self, n_classes):\n",
        "        super(Model, self).__init__()\n",
        "        activation_fn = nn.ReLU\n",
        "\n",
        "        \n",
        "        \n",
        "        self.net = nn.Sequential(\n",
        "            nn.Conv2d(in_channels=3, out_channels=32, kernel_size=3, stride= 2,padding=1), #(32,34,34)\n",
        "            PrintSize(),\n",
        "            activation_fn(),\n",
        "            nn.BatchNorm2d(32),\n",
        "            #nn.Dropout(p=0.3),\n",
        "\n",
        "            nn.Conv2d(in_channels=32, out_channels=64, kernel_size=3, stride= 2,padding=1), #(64,17,17)\n",
        "            PrintSize(),\n",
        "            activation_fn(),\n",
        "            nn.BatchNorm2d(64),\n",
        "            #nn.Dropout(p=0.3),\n",
        "\n",
        "            nn.Conv2d(in_channels=64, out_channels=128, kernel_size=3, stride= 1,padding=1 ), #(128, 17, 17)\n",
        "            PrintSize(),\n",
        "            activation_fn(),\n",
        "            nn.BatchNorm2d(128),\n",
        "            #nn.Dropout(p=0.3),\n",
        "\n",
        "            nn.Conv2d(in_channels=128, out_channels=128, kernel_size=3, stride= 2,padding=1 ), #(128, 9, 9)\n",
        "            PrintSize(),\n",
        "            activation_fn(),\n",
        "            nn.BatchNorm2d(128),\n",
        "            #nn.Dropout(p=0.3),\n",
        "            \n",
        "            nn.Conv2d(in_channels=128, out_channels=256, kernel_size=3, stride= 1,padding=1 ), #(256, 9, 9)\n",
        "            PrintSize(),\n",
        "            activation_fn(),\n",
        "            nn.BatchNorm2d(256),\n",
        "            #nn.Dropout(p=0.3),\n",
        "\n",
        "            nn.Conv2d(in_channels=256, out_channels=512, kernel_size=3, stride= 1,padding=1 ), #(512,9,9)\n",
        "            PrintSize(),\n",
        "            activation_fn(),\n",
        "            nn.BatchNorm2d(512),\n",
        "            #nn.Dropout(p=0.3),\n",
        "\n",
        "            \n",
        "            nn.Flatten(),  # from (1, channels, height, width) to (1, channels * height * width)\n",
        "            nn.Linear(512*9*9, 512),\n",
        "            activation_fn(),\n",
        "            nn.Dropout(p=0.1),\n",
        "            nn.Linear(512, 256),\n",
        "            activation_fn(),\n",
        "            nn.Dropout(p=0.1),\n",
        "            nn.Linear(256, n_classes)\n",
        "        )\n",
        "        \n",
        "        \n",
        "    def forward(self, x):\n",
        "        # Your code here!\n",
        "        return self.net(x.reshape([-1, channels, height, width]))\n",
        "         \n",
        "        \n",
        "model = Model(n_classes)\n",
        "device = torch.device('cpu')  # use cuda or cpu\n",
        "model.to(device)\n",
        "print(model)"
      ]
    },
    {
      "cell_type": "code",
      "execution_count": null,
      "id": "28ad4685",
      "metadata": {
        "id": "28ad4685"
      },
      "outputs": [],
      "source": [
        "loss_fn = nn.CrossEntropyLoss()  # Your code here!\n",
        "optimizer = optim.Adam(model.parameters(), lr=1e-3)  # Your code here!"
      ]
    },
    {
      "cell_type": "code",
      "execution_count": null,
      "id": "f87b014c",
      "metadata": {
        "colab": {
          "base_uri": "https://localhost:8080/"
        },
        "id": "f87b014c",
        "outputId": "922a5d21-7e84-41ee-83f8-524a1b089375"
      },
      "outputs": [
        {
          "output_type": "stream",
          "name": "stdout",
          "text": [
            "Size: torch.Size([4, 32, 34, 34])\n",
            "Size: torch.Size([4, 64, 17, 17])\n",
            "Size: torch.Size([4, 128, 17, 17])\n",
            "Size: torch.Size([4, 128, 9, 9])\n",
            "Size: torch.Size([4, 256, 9, 9])\n",
            "Size: torch.Size([4, 512, 9, 9])\n",
            "Output shape: torch.Size([4, 13])\n",
            "Output logits:\n",
            "[[ 0.01194377  0.1478433  -0.08969424  0.04016729  0.10606109 -0.0473704\n",
            "  -0.08947654 -0.03800741  0.02660168  0.01056405  0.10401382  0.14926454\n",
            "  -0.06431899]\n",
            " [ 0.12615514  0.00616693  0.0441939   0.19129187 -0.03381535 -0.10046108\n",
            "  -0.13590735  0.0759585   0.16240054 -0.238067    0.04628973  0.24041313\n",
            "   0.00356613]\n",
            " [ 0.100395   -0.05801295  0.15087762  0.19923085  0.05272174 -0.07414209\n",
            "   0.09530351  0.11754547  0.02889062 -0.08658397  0.23550934  0.23491701\n",
            "  -0.08783393]\n",
            " [ 0.05233776  0.16558206  0.04426227 -0.10636635 -0.03223824 -0.13800317\n",
            "   0.02464937  0.35696575  0.05197024  0.09782394  0.15592912  0.07839917\n",
            "  -0.0605143 ]]\n",
            "Output probabilities:\n",
            "[[0.07600474 0.08706851 0.06865938 0.07818042 0.08350555 0.07162768\n",
            "  0.06867433 0.07230148 0.07712702 0.07589995 0.08333476 0.08719234\n",
            "  0.07042392]\n",
            " [0.08399126 0.07449444 0.0773818  0.08964429 0.07157474 0.06696007\n",
            "  0.06462816 0.07987925 0.0870914  0.05835182 0.07754415 0.09415767\n",
            "  0.07430095]\n",
            " [0.07878847 0.06724608 0.08286802 0.08697342 0.07512049 0.06617016\n",
            "  0.07838834 0.08015139 0.07335146 0.06535199 0.09018662 0.09013321\n",
            "  0.06527034]\n",
            " [0.07625145 0.08539441 0.07563815 0.06506145 0.07006759 0.06303533\n",
            "  0.07416912 0.10340614 0.07622343 0.07979993 0.08457407 0.07826479\n",
            "  0.0681141 ]]\n"
          ]
        }
      ],
      "source": [
        "# Test the forward pass with dummy data\n",
        "out = model(torch.randn(4, 3, 68, 68, device=device))\n",
        "print(\"Output shape:\", out.size())\n",
        "print(f\"Output logits:\\n{out.detach().cpu().numpy()}\")\n",
        "print(f\"Output probabilities:\\n{out.softmax(1).detach().cpu().numpy()}\")"
      ]
    },
    {
      "cell_type": "code",
      "execution_count": null,
      "id": "a4158b10",
      "metadata": {
        "colab": {
          "base_uri": "https://localhost:8080/"
        },
        "id": "a4158b10",
        "outputId": "8a653e8b-ed8b-4a82-c32a-b06a3a0b2fc7"
      },
      "outputs": [
        {
          "output_type": "stream",
          "name": "stdout",
          "text": [
            "Step 50      training accuracy: 0.425\n",
            "             test accuracy: 0.4722838137472284\n",
            "Step 100     training accuracy: 0.42\n",
            "             test accuracy: 0.5232815964523282\n",
            "Step 150     training accuracy: 0.445\n",
            "             test accuracy: 0.42572062084257206\n",
            "Step 200     training accuracy: 0.41\n",
            "             test accuracy: 0.5272727272727272\n",
            "Step 250     training accuracy: 0.49\n",
            "             test accuracy: 0.5059866962305987\n",
            "Step 300     training accuracy: 0.455\n",
            "             test accuracy: 0.5396895787139689\n",
            "Step 350     training accuracy: 0.505\n",
            "             test accuracy: 0.5361419068736142\n",
            "Step 400     training accuracy: 0.555\n",
            "             test accuracy: 0.4886917960088692\n",
            "Step 450     training accuracy: 0.485\n",
            "             test accuracy: 0.47849223946784925\n",
            "Step 500     training accuracy: 0.46\n",
            "             test accuracy: 0.4793791574279379\n",
            "Step 550     training accuracy: 0.44\n",
            "             test accuracy: 0.4629711751662971\n",
            "Step 600     training accuracy: 0.4\n",
            "             test accuracy: 0.43015521064301554\n",
            "Step 650     training accuracy: 0.51\n",
            "             test accuracy: 0.5113082039911309\n",
            "Step 700     training accuracy: 0.405\n",
            "             test accuracy: 0.530820399113082\n",
            "Step 750     training accuracy: 0.525\n",
            "             test accuracy: 0.5232815964523282\n",
            "Step 800     training accuracy: 0.41\n",
            "             test accuracy: 0.44789356984478934\n",
            "Step 850     training accuracy: 0.425\n",
            "             test accuracy: 0.4470066518847007\n",
            "Step 900     training accuracy: 0.545\n",
            "             test accuracy: 0.46518847006651887\n",
            "Step 950     training accuracy: 0.47\n",
            "             test accuracy: 0.5405764966740576\n",
            "Step 1000    training accuracy: 0.47\n",
            "             test accuracy: 0.5419068736141907\n",
            "Step 1050    training accuracy: 0.545\n",
            "             test accuracy: 0.5263858093126386\n",
            "Step 1100    training accuracy: 0.49\n",
            "             test accuracy: 0.47583148558758315\n",
            "Step 1150    training accuracy: 0.445\n",
            "             test accuracy: 0.46252771618625277\n",
            "Step 1200    training accuracy: 0.5\n",
            "             test accuracy: 0.516629711751663\n",
            "Step 1250    training accuracy: 0.505\n",
            "             test accuracy: 0.5738359201773836\n",
            "Step 1300    training accuracy: 0.43\n",
            "             test accuracy: 0.551219512195122\n",
            "Step 1350    training accuracy: 0.44\n",
            "             test accuracy: 0.5401330376940133\n",
            "Step 1400    training accuracy: 0.495\n",
            "             test accuracy: 0.528159645232816\n",
            "Step 1450    training accuracy: 0.485\n",
            "             test accuracy: 0.5290465631929047\n",
            "Step 1500    training accuracy: 0.54\n",
            "             test accuracy: 0.5290465631929047\n",
            "Step 1550    training accuracy: 0.485\n",
            "             test accuracy: 0.5454545454545454\n",
            "Step 1600    training accuracy: 0.495\n",
            "             test accuracy: 0.5370288248337028\n",
            "Step 1650    training accuracy: 0.47\n",
            "             test accuracy: 0.5569844789356985\n",
            "Step 1700    training accuracy: 0.53125\n",
            "             test accuracy: 0.5702882483370288\n",
            "Step 1750    training accuracy: 0.46\n",
            "             test accuracy: 0.4993348115299335\n",
            "Step 1800    training accuracy: 0.5\n",
            "             test accuracy: 0.50509977827051\n",
            "Step 1850    training accuracy: 0.47\n",
            "             test accuracy: 0.5600886917960088\n",
            "Step 1900    training accuracy: 0.47\n",
            "             test accuracy: 0.5716186252771619\n",
            "Step 1950    training accuracy: 0.58\n",
            "             test accuracy: 0.5432372505543237\n",
            "Step 2000    training accuracy: 0.505\n",
            "             test accuracy: 0.5587583148558758\n",
            "Step 2050    training accuracy: 0.41\n",
            "             test accuracy: 0.5383592017738359\n",
            "Step 2100    training accuracy: 0.49\n",
            "             test accuracy: 0.5556541019955654\n",
            "Step 2150    training accuracy: 0.52\n",
            "             test accuracy: 0.5170731707317073\n",
            "Step 2200    training accuracy: 0.475\n",
            "             test accuracy: 0.48070953436807096\n",
            "Step 2250    training accuracy: 0.54\n",
            "             test accuracy: 0.5458980044345898\n",
            "Step 2300    training accuracy: 0.51\n",
            "             test accuracy: 0.578270509977827\n",
            "Step 2350    training accuracy: 0.535\n",
            "             test accuracy: 0.4869179600886918\n",
            "Step 2400    training accuracy: 0.46\n",
            "             test accuracy: 0.4984478935698448\n",
            "Step 2450    training accuracy: 0.525\n",
            "             test accuracy: 0.5529933481152993\n",
            "Step 2500    training accuracy: 0.53\n",
            "             test accuracy: 0.5574279379157427\n",
            "Step 2550    training accuracy: 0.57\n",
            "             test accuracy: 0.5303769401330377\n",
            "Step 2600    training accuracy: 0.5\n",
            "             test accuracy: 0.5866962305986696\n",
            "Step 2650    training accuracy: 0.585\n",
            "             test accuracy: 0.5751662971175167\n",
            "Step 2700    training accuracy: 0.53\n",
            "             test accuracy: 0.5219512195121951\n",
            "Step 2750    training accuracy: 0.51\n",
            "             test accuracy: 0.5574279379157427\n",
            "Step 2800    training accuracy: 0.535\n",
            "             test accuracy: 0.5458980044345898\n",
            "Step 2850    training accuracy: 0.46\n",
            "             test accuracy: 0.5707317073170731\n",
            "Step 2900    training accuracy: 0.48\n",
            "             test accuracy: 0.4616407982261641\n",
            "Step 2950    training accuracy: 0.45\n",
            "             test accuracy: 0.517960088691796\n",
            "Step 3000    training accuracy: 0.56\n",
            "             test accuracy: 0.4909090909090909\n",
            "Step 3050    training accuracy: 0.465\n",
            "             test accuracy: 0.5077605321507761\n",
            "Step 3100    training accuracy: 0.445\n",
            "             test accuracy: 0.5432372505543237\n",
            "Step 3150    training accuracy: 0.485\n",
            "             test accuracy: 0.5560975609756098\n",
            "Step 3200    training accuracy: 0.55\n",
            "             test accuracy: 0.553880266075388\n",
            "Step 3250    training accuracy: 0.62\n",
            "             test accuracy: 0.5392461197339247\n",
            "Step 3300    training accuracy: 0.43\n",
            "             test accuracy: 0.4926829268292683\n",
            "Step 3350    training accuracy: 0.485\n",
            "             test accuracy: 0.48070953436807096\n",
            "Step 3400    training accuracy: 0.625\n",
            "             test accuracy: 0.530820399113082\n",
            "Step 3450    training accuracy: 0.475\n",
            "             test accuracy: 0.542350332594235\n",
            "Step 3500    training accuracy: 0.495\n",
            "             test accuracy: 0.5374722838137472\n",
            "Step 3550    training accuracy: 0.48\n",
            "             test accuracy: 0.588470066518847\n",
            "Step 3600    training accuracy: 0.525\n",
            "             test accuracy: 0.5609756097560976\n",
            "Step 3650    training accuracy: 0.515\n",
            "             test accuracy: 0.5529933481152993\n",
            "Step 3700    training accuracy: 0.545\n",
            "             test accuracy: 0.542350332594235\n",
            "Step 3750    training accuracy: 0.49\n",
            "             test accuracy: 0.5547671840354768\n",
            "Step 3800    training accuracy: 0.6\n",
            "             test accuracy: 0.470509977827051\n",
            "Step 3850    training accuracy: 0.48\n",
            "             test accuracy: 0.43946784922394677\n",
            "Step 3900    training accuracy: 0.5\n",
            "             test accuracy: 0.5152993348115299\n",
            "Step 3950    training accuracy: 0.565\n",
            "             test accuracy: 0.565410199556541\n",
            "Step 4000    training accuracy: 0.51\n",
            "             test accuracy: 0.5951219512195122\n",
            "Step 4050    training accuracy: 0.5\n",
            "             test accuracy: 0.572949002217295\n",
            "Step 4100    training accuracy: 0.535\n",
            "             test accuracy: 0.5778270509977828\n",
            "Step 4150    training accuracy: 0.52\n",
            "             test accuracy: 0.5454545454545454\n",
            "Step 4200    training accuracy: 0.43\n",
            "             test accuracy: 0.46252771618625277\n",
            "Step 4250    training accuracy: 0.495\n",
            "             test accuracy: 0.5259423503325943\n",
            "Step 4300    training accuracy: 0.515\n",
            "             test accuracy: 0.541019955654102\n",
            "Step 4350    training accuracy: 0.5\n",
            "             test accuracy: 0.5840354767184035\n",
            "Step 4400    training accuracy: 0.535\n",
            "             test accuracy: 0.5689578713968958\n",
            "Step 4450    training accuracy: 0.47\n",
            "             test accuracy: 0.5277161862527716\n",
            "Step 4500    training accuracy: 0.51\n",
            "             test accuracy: 0.5671840354767184\n",
            "Step 4550    training accuracy: 0.49\n",
            "             test accuracy: 0.5059866962305987\n",
            "Step 4600    training accuracy: 0.525\n",
            "             test accuracy: 0.5685144124168514\n",
            "Step 4650    training accuracy: 0.51\n",
            "             test accuracy: 0.5671840354767184\n",
            "Step 4700    training accuracy: 0.545\n",
            "             test accuracy: 0.5796008869179601\n",
            "Step 4750    training accuracy: 0.585\n",
            "             test accuracy: 0.5906873614190687\n",
            "Step 4800    training accuracy: 0.57\n",
            "             test accuracy: 0.5813747228381375\n",
            "Step 4850    training accuracy: 0.53\n",
            "             test accuracy: 0.5738359201773836\n",
            "Step 4900    training accuracy: 0.52\n",
            "             test accuracy: 0.5866962305986696\n",
            "Step 4950    training accuracy: 0.54\n",
            "             test accuracy: 0.5215077605321508\n",
            "Step 5000    training accuracy: 0.54\n",
            "             test accuracy: 0.5773835920177384\n",
            "Step 5050    training accuracy: 0.495\n",
            "             test accuracy: 0.5521064301552107\n",
            "Finished training.\n"
          ]
        }
      ],
      "source": [
        "num_epochs = 3\n",
        "validation_every_steps = 50\n",
        "\n",
        "step = 0\n",
        "model.train()\n",
        "\n",
        "train_accuracies = []\n",
        "valid_accuracies = []\n",
        "        \n",
        "for epoch in range(num_epochs):\n",
        "    \n",
        "    train_accuracies_batches = []\n",
        "    \n",
        "    for inputs, targets in train_loader:\n",
        "        inputs, targets = inputs.to(device), targets.to(device)\n",
        "        \n",
        "        # Forward pass, compute gradients, perform one training step.\n",
        "        # Your code here!\n",
        "        \n",
        "        # Forward pass.\n",
        "        output = model(inputs)\n",
        "        \n",
        "        # Compute loss.\n",
        "        loss = loss_fn(output, targets)\n",
        "        \n",
        "        # Clean up gradients from the model.\n",
        "        optimizer.zero_grad()\n",
        "        \n",
        "        # Compute gradients based on the loss from the current batch (backpropagation).\n",
        "        loss.backward()\n",
        "        \n",
        "        # Take one optimizer step using the gradients computed in the previous step.\n",
        "        optimizer.step()\n",
        "        \n",
        "        # Increment step counter\n",
        "        step += 1\n",
        "        \n",
        "        # Compute accuracy.\n",
        "        predictions = output.max(1)[1]\n",
        "        train_accuracies_batches.append(accuracy(targets, predictions))\n",
        "        \n",
        "        if step % validation_every_steps == 0:\n",
        "            \n",
        "            # Append average training accuracy to list.\n",
        "            train_accuracies.append(np.mean(train_accuracies_batches))\n",
        "            \n",
        "            train_accuracies_batches = []\n",
        "        \n",
        "            # Compute accuracies on validation set.\n",
        "            valid_accuracies_batches = []\n",
        "            with torch.no_grad():\n",
        "                model.eval()\n",
        "                for inputs, targets in test_loader:\n",
        "                    inputs, targets = inputs.to(device), targets.to(device)\n",
        "                    output = model(inputs)\n",
        "                    loss = loss_fn(output, targets)\n",
        "\n",
        "                    predictions = output.max(1)[1]\n",
        "\n",
        "                    # Multiply by len(x) because the final batch of DataLoader may be smaller (drop_last=False).\n",
        "                    valid_accuracies_batches.append(accuracy(targets, predictions) * len(inputs))\n",
        "\n",
        "                model.train()\n",
        "                \n",
        "            # Append average validation accuracy to list.\n",
        "            valid_accuracies.append(np.sum(valid_accuracies_batches) / len(dataset_test))\n",
        "     \n",
        "            print(f\"Step {step:<5}   training accuracy: {train_accuracies[-1]}\")\n",
        "            print(f\"             test accuracy: {valid_accuracies[-1]}\")\n",
        "\n",
        "print(\"Finished training.\")"
      ]
    },
    {
      "cell_type": "code",
      "source": [
        "plt.figure()\n",
        "plt.plot(range(50,5051, 50), train_accuracies, 'r', range(50,5051, 50), valid_accuracies, 'b')\n",
        "plt.legend(['Train Accucary','Test Accuracy'])\n",
        "plt.xlabel('steps'), plt.ylabel('Acc')"
      ],
      "metadata": {
        "colab": {
          "base_uri": "https://localhost:8080/",
          "height": 296
        },
        "id": "WPG0XpBaIPOm",
        "outputId": "dd75406b-0e39-4e74-f88d-ae9dfcd1daf0"
      },
      "id": "WPG0XpBaIPOm",
      "execution_count": null,
      "outputs": [
        {
          "output_type": "execute_result",
          "data": {
            "text/plain": [
              "(Text(0.5, 0, 'steps'), Text(0, 0.5, 'Acc'))"
            ]
          },
          "metadata": {},
          "execution_count": 50
        },
        {
          "output_type": "display_data",
          "data": {
            "text/plain": [
              "<Figure size 432x288 with 1 Axes>"
            ],
            "image/png": "[encoded data removed]"
          },
          "metadata": {}
        }
      ]
    },
    {
      "cell_type": "code",
      "source": [],
      "metadata": {
        "id": "ETFHf0O5fxiU"
      },
      "id": "ETFHf0O5fxiU",
      "execution_count": null,
      "outputs": []
    },
    {
      "cell_type": "code",
      "source": [],
      "metadata": {
        "id": "A0HMlIU535f1"
      },
      "id": "A0HMlIU535f1",
      "execution_count": null,
      "outputs": []
    }
  ],
  "metadata": {
    "kernelspec": {
      "display_name": "Python 3 (ipykernel)",
      "language": "python",
      "name": "python3"
    },
    "language_info": {
      "codemirror_mode": {
        "name": "ipython",
        "version": 3
      },
      "file_extension": ".py",
      "mimetype": "text/x-python",
      "name": "python",
      "nbconvert_exporter": "python",
      "pygments_lexer": "ipython3",
      "version": "3.9.12"
    },
    "colab": {
      "provenance": [],
      "collapsed_sections": []
    }
  },
  "nbformat": 4,
  "nbformat_minor": 5
}